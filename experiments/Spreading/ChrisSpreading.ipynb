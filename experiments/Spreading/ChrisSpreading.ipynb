{
 "cells": [
  {
   "cell_type": "code",
   "execution_count": 1,
   "metadata": {},
   "outputs": [],
   "source": [
    "import numpy as np\n",
    "import matplotlib.pyplot as plt\n",
    "%matplotlib inline"
   ]
  },
  {
   "cell_type": "markdown",
   "metadata": {},
   "source": [
    "## Initial Area\n",
    "\n",
    "We want the initial area to be the end of Fay's Gravity-inertial phase.\n",
    "\n",
    "From Dodge(1983):\n",
    "\n",
    "$A_0 = \\pi \\frac{{K_2}^4}{{K_1}^2}\\left(\\frac{g \\cdot \\Delta \\rho \\cdot V_0^5 }{\\nu_w^2}\\right)^{1/6}$\n",
    "\n",
    "with:\n",
    "\n",
    "$K_1 = 1.53$ (inertial phase constant)\n",
    "\n",
    "$K_2 = 1.21$ (viscous phase constant)\n",
    "\n",
    "We can combine the various constants, and get:\n",
    "\n",
    "$A_0 = C_{ia} \\cdot {\\Delta \\rho}^6 \\cdot V_0^{5/6}$\n",
    "\n",
    "$C_{ia} = \\pi \\frac{{K_2}^4}{{K_1}^2} \\left(\\frac{g}{\\nu_w^2}\\right)^{1/6} \\approx 42.09$\n"
   ]
  },
  {
   "cell_type": "code",
   "execution_count": 2,
   "metadata": {},
   "outputs": [
    {
     "name": "stdout",
     "output_type": "stream",
     "text": [
      "initial area constant: 420.878887157864\n"
     ]
    }
   ],
   "source": [
    "# a few utilities and constants\n",
    "\n",
    "# Constants\n",
    "## These came from Dodge(1983) -- slightly different than Fay (1971)\n",
    "## Fay(1971) has 1.45 for viscous, and 1.14 for gravity\n",
    "## but the Dodge numbers are derived from experiments, so what the heck\n",
    "\n",
    "K1=1.53 # Intertial phase\n",
    "K2=1.21 # Viscous phase\n",
    "\n",
    "visc_w = 1e-6 # viscosity of water: m^2/s\n",
    "\n",
    "g = 9.806 # gravity, m/s^2\n",
    "\n",
    "rho_water = 1025.0 # kg/m^3 (typical seawater)\n",
    "\n",
    "rho_oil = 900 # kg/m^3 -- arbitrary number\n",
    "\n",
    "# Combining the contants for the initial area:\n",
    "C_ia = np.pi * (K2**4 / K1**2) * (g / visc_w**2)**(1.0/6.0)\n",
    "\n",
    "print(\"initial area constant:\", C_ia)\n",
    "\n",
    "def Delta(rho_oil):\n",
    "    \"\"\"difference between oil and seawater density\"\"\"\n",
    "    return (float(rho_water) - rho_oil) / rho_water\n",
    "\n",
    "def init_area(V0, rho_oil):\n",
    "    \"\"\"\n",
    "    initial area -- end of Fay gravity-inertial\n",
    "    \"\"\"\n",
    "    return np.pi * (K2**4 / K1**2) * (g * Delta(rho_oil) * V0**5 / visc_w**2 )**(1./6.) \n",
    "\n",
    "def init_area2(V0, rho_oil):\n",
    "    \"\"\"\n",
    "    initial area -- end of Fay gravity-inertial with constants combined\n",
    "    \"\"\"\n",
    "    return C_ia * Delta(rho_oil)**(1.0/6.0) * V0**(5.0/6.0) \n",
    "\n",
    "def init_radius(V0, rho_oil):\n",
    "    \"\"\"\n",
    "    initial radius -- end of Fay gravity-inertial\n",
    "    \"\"\"\n",
    "    return  (K2**2/K1) * ((g * V0**5 * delta())/visc_w**2 )**(1./12.) \n",
    "\n",
    "def min_thickness(visc_oil):\n",
    "    if visc_oil <= 1e-6:\n",
    "        return 1e-5    \n",
    "    elif visc_oil >= 1e-4:\n",
    "        return 1e-4\n",
    "    else:\n",
    "        return 1e-5 + (90.0 / 99.0) * (visc_oil - 1e-6)\n",
    "\n",
    "def max_area(volume, visc_oil):\n",
    "    return volume / min_thickness(visc_oil)\n",
    "\n",
    "def Fay_gv(V0, rho_oil, t):\n",
    "    \"\"\"\n",
    "    Fay Gravity-viscous phase analytical solution\n",
    "    \"\"\"\n",
    "    return np.pi * K1**2 * (Delta(rho_oil) * g / np.sqrt(visc_w))**(1./3.) * V0**(2./3.) * np.sqrt(t)\n",
    "\n",
    "## dont need these anymore:\n",
    "# def bill_area2(V0, rho_oil):\n",
    "#     \"\"\" from Jan 2017 spreading doc\n",
    "#         this constant is wrong, but I can see where it came from. the actual value is:\n",
    "#         420.87 -- so off by a factor of 100 (units?)\n",
    "#     \"\"\"\n",
    "#     return 4.2 * (Delta(rho_oil) * V0**5)**(1.0 / 6.0)\n",
    "    \n",
    "# def bill_radius2(V0, rho_oil):\n",
    "#     np.sqrt(bill_area2(V0, rho_oil) / np.pi)\n",
    "\n",
    "# def bill_area1(V0, rho_oil):\n",
    "#     \"\"\" from May 2016 spreading doc\n",
    "#         wrong constant -- no idea where it came from\n",
    "#     \"\"\"\n",
    "#     return 16 * ((Delta(rho_oil) * g * V0**5) / visc_w**2)**(1.0 / 6.0)\n",
    "\n",
    "    "
   ]
  },
  {
   "cell_type": "code",
   "execution_count": 3,
   "metadata": {},
   "outputs": [
    {
     "data": {
      "text/plain": [
       "<matplotlib.legend.Legend at 0x15d0f7b20>"
      ]
     },
     "execution_count": 3,
     "metadata": {},
     "output_type": "execute_result"
    },
    {
     "data": {
      "image/png": "[encoded data removed]",
      "text/plain": [
       "<Figure size 432x288 with 1 Axes>"
      ]
     },
     "metadata": {
      "needs_background": "light"
     },
     "output_type": "display_data"
    }
   ],
   "source": [
    "# plot initial area\n",
    "V0 = np.linspace(1,1000) # volume in m^3\n",
    "fig, ax = plt.subplots()\n",
    "ax.plot(V0, init_area2(V0, rho_oil), \".\", label=\"With constant\")\n",
    "#ax.set_xlim(1e-7, 1e-3)\n",
    "#ax.set_ylim(0, 110)\n",
    "ax.set_title(\"Initial area as a function of Volume\")\n",
    "ax.set_xlabel(\"Oil Volume ($m^3$)\")\n",
    "ax.set_ylabel(\"Initial Area ($m^2$)\")\n",
    "ax.legend(loc='upper left')"
   ]
  },
  {
   "cell_type": "code",
   "execution_count": 4,
   "metadata": {},
   "outputs": [
    {
     "name": "stderr",
     "output_type": "stream",
     "text": [
      "/var/folders/7t/137hx7xn4s1fdqvjj1bhtdhrz84cy3/T/ipykernel_77378/965891686.py:38: RuntimeWarning: invalid value encountered in power\n",
      "  return C_ia * Delta(rho_oil)**(1.0/6.0) * V0**(5.0/6.0)\n"
     ]
    },
    {
     "data": {
      "text/plain": [
       "Text(0, 0.5, 'Initial Area ($m^2$)')"
      ]
     },
     "execution_count": 4,
     "metadata": {},
     "output_type": "execute_result"
    },
    {
     "data": {
      "image/png": "[encoded data removed]",
      "text/plain": [
       "<Figure size 432x288 with 1 Axes>"
      ]
     },
     "metadata": {
      "needs_background": "light"
     },
     "output_type": "display_data"
    }
   ],
   "source": [
    "# plot initial area as a function of oil density\n",
    "# V0 = np.linspace(1000) # volume in m^3\n",
    "V0 = 1000 # volume in m^3\n",
    "rho_oil = np.linspace(800, 1200) # density in kg/m^3\n",
    "fig, ax = plt.subplots()\n",
    "ax.plot(rho_oil, init_area2(V0, rho_oil))\n",
    "#ax.set_xlim(1e-7, 1e-3)\n",
    "#ax.set_ylim(0, 110)\n",
    "ax.set_title(\"Initial area as a function of Density\")\n",
    "ax.set_xlabel(\"Oil Density ($kg/m^3$)\")\n",
    "ax.set_ylabel(\"Initial Area ($m^2$)\")\n",
    "# ax.legend(loc='upper right')"
   ]
  },
  {
   "cell_type": "markdown",
   "metadata": {},
   "source": [
    "## Intial area -- matching Inertial and Viscous phases\n",
    "\n",
    "from Fay (1971):\n",
    "\n",
    "$r_i = K_i (\\Delta g V t^2)^{1/4}$\n",
    "\n",
    "$r_v = K_v ( \\frac{ \\Delta g V t^{3/2}}{\\nu_w^{1/2}})^{1/6}$\n",
    "\n",
    "where:\n",
    "\n",
    "$ K_i=1.14 $\n",
    "\n",
    "$ K_v=1.45 $\n",
    "\n"
   ]
  },
  {
   "cell_type": "code",
   "execution_count": 18,
   "metadata": {},
   "outputs": [
    {
     "data": {
      "text/plain": [
       "<matplotlib.legend.Legend at 0x15d7926a0>"
      ]
     },
     "execution_count": 18,
     "metadata": {},
     "output_type": "execute_result"
    },
    {
     "data": {
      "image/png": "[encoded data removed]",
      "text/plain": [
       "<Figure size 432x288 with 1 Axes>"
      ]
     },
     "metadata": {
      "needs_background": "light"
     },
     "output_type": "display_data"
    }
   ],
   "source": [
    "K_i = 1.14\n",
    "K_v = 1.45\n",
    "\n",
    "def r_i(Vol, rho_oil, t):\n",
    "    \"\"\"radius of Fay inertial phase\"\"\"\n",
    "    return K_i * (Delta(rho_oil) * g * Vol * t**2)**(0.25)\n",
    "\n",
    "def r_v(Vol, rho_oil, t):\n",
    "    \"\"\"radius of Fay viscous phase\"\"\"\n",
    "    #return K_v * (Delta(rho_oil) * g * Vol**2 * t**1.5 / np.sqrt(visc_w))**(1.0 / 6.0)\n",
    "    return K_v * (Delta(rho_oil) * g / np.sqrt(visc_w))**(1./6.) * Vol**(1./3.) * t**0.25\n",
    "\n",
    "def a_v(Vol, rho_oil, t):\n",
    "    \"\"\"area of Fay viscous phase: pi r^2\"\"\"\n",
    "    return np.pi * r_v(Vol, rho_oil, t)**2\n",
    "\n",
    "def Fay_gv(V0, rho_oil, t):\n",
    "    \"\"\"\n",
    "    Fay Gravity-viscous phase analytical solution\n",
    "    \"\"\"\n",
    "    return np.pi * K_v**2 * (Delta(rho_oil) * g / np.sqrt(visc_w))**(1./3.) * V0**(2./3.) * np.sqrt(t)\n",
    "\n",
    "\n",
    "rho_oil = 900\n",
    "Vol = 1000\n",
    "t = np.linspace(0, 3600*1)\n",
    "\n",
    "fig, ax = plt.subplots()\n",
    "#ax.plot(t, r_i(Vol, rho_oil, t), label=\"Inertial\")\n",
    "ax.plot(t, a_v(Vol, rho_oil, t), label=\"Area2\")\n",
    "# ax.plot(t, a_v3(Vol, rho_oil, t), '.',label=\"Area3\")\n",
    "ax.plot(t, Fay_gv(Vol, rho_oil, t), label=\"Area1\")\n",
    "\n",
    "#ax.set_xlim(1e-7, 1e-3)\n",
    "#ax.set_ylim(0, 110)\n",
    "ax.set_xlabel(\"time (s)\")\n",
    "ax.set_ylabel(\"radius ($m$)\")\n",
    "ax.legend(loc='upper left')\n"
   ]
  },
  {
   "cell_type": "markdown",
   "metadata": {},
   "source": [
    "## Fay -- matching rate of change of radius\n",
    "\n",
    "Where does viscous take over?\n",
    "\n",
    "Hmm -- this looks like the viscous phase starts stronger, then inertial pahse takes over -- backwards??"
   ]
  },
  {
   "cell_type": "code",
   "execution_count": 6,
   "metadata": {},
   "outputs": [
    {
     "name": "stderr",
     "output_type": "stream",
     "text": [
      "/var/folders/7t/137hx7xn4s1fdqvjj1bhtdhrz84cy3/T/ipykernel_77378/1519208996.py:8: RuntimeWarning: divide by zero encountered in power\n",
      "  return C_i * t**(-0.5)\n",
      "/var/folders/7t/137hx7xn4s1fdqvjj1bhtdhrz84cy3/T/ipykernel_77378/1519208996.py:11: RuntimeWarning: divide by zero encountered in power\n",
      "  return C_v * t**(-.75)\n"
     ]
    },
    {
     "data": {
      "text/plain": [
       "<matplotlib.legend.Legend at 0x15d392a00>"
      ]
     },
     "execution_count": 6,
     "metadata": {},
     "output_type": "execute_result"
    },
    {
     "data": {
      "image/png": "[encoded data removed]",
      "text/plain": [
       "<Figure size 432x288 with 1 Axes>"
      ]
     },
     "metadata": {
      "needs_background": "light"
     },
     "output_type": "display_data"
    }
   ],
   "source": [
    "K_i = 1.14\n",
    "K_v = 1.45\n",
    "\n",
    "C_i = 0.5 * K_i * (Delta(rho_oil) * g * Vol)**0.25\n",
    "C_v = 0.25 * K_v * (Delta(rho_oil) * g * Vol**2 / np.sqrt(visc_w))**(1.0/6.0)\n",
    "\n",
    "def drdt_i(t):\n",
    "    return C_i * t**(-0.5)\n",
    "\n",
    "def drdt_v(t):\n",
    "    return C_v * t**(-.75)\n",
    "\n",
    "fig, ax = plt.subplots()\n",
    "ax.plot(t, drdt_i(t), label=\"inertial\")\n",
    "ax.plot(t, drdt_v(t), label=\"viscous\")\n",
    "\n",
    "ax.set_title(\"derivative of radius change\")\n",
    "#ax.set_xlim(1e-7, 1e-3)\n",
    "#ax.set_ylim(0, 110)\n",
    "ax.set_xlabel(\"time (s)\")\n",
    "ax.set_ylabel(\"dr/dt\")\n",
    "ax.legend()"
   ]
  },
  {
   "cell_type": "code",
   "execution_count": 7,
   "metadata": {},
   "outputs": [],
   "source": [
    "# Simple Euler method integration for area as a function of area\n",
    "def Euler(f, T, A_0):\n",
    "    dt = T[1] - T[0] # assume it's the same...\n",
    "    A = [A_0]\n",
    "    for t in enumerate(T[1:]):\n",
    "        A.append(A[-1] + f(A[-1]) * dt)\n",
    "    return np.array(A)\n",
    "\n"
   ]
  },
  {
   "cell_type": "code",
   "execution_count": 8,
   "metadata": {},
   "outputs": [
    {
     "data": {
      "text/plain": [
       "Text(0, 0.5, 'Terminal thickness ($\\\\mu m$)')"
      ]
     },
     "execution_count": 8,
     "metadata": {},
     "output_type": "execute_result"
    },
    {
     "data": {
      "image/png": "[encoded data removed]",
      "text/plain": [
       "<Figure size 432x288 with 1 Axes>"
      ]
     },
     "metadata": {
      "needs_background": "light"
     },
     "output_type": "display_data"
    }
   ],
   "source": [
    "# plot thickness computation\n",
    "nu_oil = np.logspace(-7,-3, 1000)\n",
    "fig, ax = plt.subplots()\n",
    "delta = np.array([min_thickness(nu) for nu in nu_oil])\n",
    "#ax.plot(nu_oil, delta * 1e-6)\n",
    "ax.semilogx(nu_oil, delta * 1e6)\n",
    "ax.set_xlim(1e-7, 1e-3)\n",
    "ax.set_ylim(0, 110)\n",
    "ax.set_xlabel(\"Oil Viscosity\")\n",
    "ax.set_ylabel(\"Terminal thickness ($\\mu m$)\")"
   ]
  },
  {
   "cell_type": "code",
   "execution_count": 9,
   "metadata": {},
   "outputs": [
    {
     "name": "stdout",
     "output_type": "stream",
     "text": [
      "nu: 9.99900000e-07, delta: 1.00000000e-05\n",
      "nu: 1.00000000e-06, delta: 1.00000000e-05\n",
      "nu: 1.00000010e-06, delta: 1.00000001e-05\n",
      "nu: 1.00000000e-05, delta: 1.81818182e-05\n",
      "nu: 5.05000000e-05, delta: 5.50000000e-05\n",
      "nu: 9.99999990e-05, delta: 9.99999991e-05\n",
      "nu: 1.00000000e-04, delta: 1.00000000e-04\n",
      "nu: 1.10000000e-04, delta: 1.00000000e-04\n"
     ]
    }
   ],
   "source": [
    "half = (1e-4 - 1e-6) / 2.0 + 1e-6\n",
    "for nu in [9.999e-7, 1e-6, 1.0000001e-6, 1e-5, half, 9.9999999e-5, 1e-4, 1.1e-4]:\n",
    "    d = min_thickness(nu)\n",
    "    print(\"nu: %.8e, delta: %.8e\"%(nu, d))"
   ]
  },
  {
   "cell_type": "markdown",
   "metadata": {},
   "source": [
    "\n",
    "# Fay converted to a function of area\n",
    "\n",
    "## Original Fay Spreading (Gravity-viscous)\n",
    "\n",
    "$A(t) = \\pi \\cdot k_{\\nu}  ( \\frac{\\Delta \\rho \\cdot g \\cdot V^2 \\cdot t^{3/2}}{\\nu_w^{1/2}})$\n",
    "\n"
   ]
  },
  {
   "cell_type": "markdown",
   "metadata": {},
   "source": [
    "## First the math/numerics  without real numbers:\n",
    "\n",
    "$ C = \\pi \\cdot k_{\\nu}  ( \\frac{\\Delta \\rho \\cdot g \\cdot V^2}{\\nu_w^{1/2}})^{1/3}$\n",
    "\n",
    "$A = C t^{1/2}$\n",
    "\n",
    "$ \\frac{dA}{dt} = \\frac{1}{2}C t^{-1/2} $\n",
    "\n",
    "$ \\frac{dA}{dt} = \\frac{1}{2} \\frac{C^2}{A} $"
   ]
  },
  {
   "cell_type": "code",
   "execution_count": 10,
   "metadata": {},
   "outputs": [
    {
     "data": {
      "text/plain": [
       "Text(0, 0.5, 'Area')"
      ]
     },
     "execution_count": 10,
     "metadata": {},
     "output_type": "execute_result"
    },
    {
     "data": {
      "image/png": "[encoded data removed]",
      "text/plain": [
       "<Figure size 432x288 with 1 Axes>"
      ]
     },
     "metadata": {
      "needs_background": "light"
     },
     "output_type": "display_data"
    }
   ],
   "source": [
    "# as a function of time:\n",
    "C = 2 # shouldn't be 1! more likely to find errors this way!\n",
    "T = np.linspace(0, 10000)\n",
    "A1 = C * np.sqrt(T)\n",
    "\n",
    "fig, ax = plt.subplots()\n",
    "ax.plot(T, A1, label=\"Fay\")\n",
    "ax.legend()\n",
    "ax.set_xlabel(\"time\")\n",
    "ax.set_ylabel(\"Area\")\n"
   ]
  },
  {
   "cell_type": "code",
   "execution_count": 11,
   "metadata": {},
   "outputs": [
    {
     "data": {
      "text/plain": [
       "Text(0, 0.5, 'Area')"
      ]
     },
     "execution_count": 11,
     "metadata": {},
     "output_type": "execute_result"
    },
    {
     "data": {
      "image/png": "[encoded data removed]",
      "text/plain": [
       "<Figure size 432x288 with 1 Axes>"
      ]
     },
     "metadata": {
      "needs_background": "light"
     },
     "output_type": "display_data"
    }
   ],
   "source": [
    "# as a differential equation:\n",
    "def dadt(t):\n",
    "    return 0.5 * C / np.sqrt(t)\n",
    "\n",
    "# simple Euler method:\n",
    "start = 10 # initilize with Fay\n",
    "A2 = np.zeros_like(T)\n",
    "A2[:start] = A1[:start]\n",
    "dt = T[1] - T[0] # assume it's the same...\n",
    "for i, t in enumerate(T[start:]):\n",
    "    i += start\n",
    "    A2[i] = A2[i-1] + dadt(t)*dt    \n",
    "    \n",
    "fig, ax = plt.subplots()\n",
    "ax.plot(T, A1, label=\"Fay\")\n",
    "ax.plot(T, A2, 'o', label=\"differential\")\n",
    "ax.legend()\n",
    "ax.set_xlabel(\"time\")\n",
    "ax.set_ylabel(\"Area\")\n"
   ]
  },
  {
   "cell_type": "markdown",
   "metadata": {},
   "source": [
    "Note how the solutions sit right on top of each-other if you initialize right and use small enough time steps.\n",
    "\n",
    "**NOTE:** maybe try RK method?"
   ]
  },
  {
   "cell_type": "code",
   "execution_count": 12,
   "metadata": {},
   "outputs": [
    {
     "data": {
      "text/plain": [
       "Text(0, 0.5, 'Area')"
      ]
     },
     "execution_count": 12,
     "metadata": {},
     "output_type": "execute_result"
    },
    {
     "data": {
      "image/png": "[encoded data removed]",
      "text/plain": [
       "<Figure size 432x288 with 1 Axes>"
      ]
     },
     "metadata": {
      "needs_background": "light"
     },
     "output_type": "display_data"
    }
   ],
   "source": [
    "# differential equation in terms of Area\n",
    "\n",
    "# initilize from Fay time dependent:\n",
    "start = 10\n",
    "\n",
    "def dadt(a):\n",
    "    return 0.5 * C**2  / a\n",
    "\n",
    "A3 = Euler(dadt, T[:], A1[1])\n",
    "\n",
    "## simple Euler method:\n",
    "#A3 = np.zeros_like(T)\n",
    "## small initial value to kick it off\n",
    "#A3[:start] = A1[:start]\n",
    "#dt = T[1] - T[0] # assume it's the same...\n",
    "#for i, t in enumerate(T[start:]):\n",
    "#    i += start\n",
    "#    A3[i] = A3[i-1] + dadt(A3[i-1])*dt\n",
    "    \n",
    "fig, ax = plt.subplots()\n",
    "ax.plot(T, A1, label=\"Fay\")\n",
    "ax.plot(T, A3, 'o', label=\"differential area\")\n",
    "ax.legend()\n",
    "ax.set_xlabel(\"time\")\n",
    "ax.set_ylabel(\"Area\")"
   ]
  },
  {
   "cell_type": "markdown",
   "metadata": {},
   "source": [
    "Solution exactly the same also -- with small enough time steps and the right initiliation."
   ]
  },
  {
   "cell_type": "markdown",
   "metadata": {},
   "source": [
    "## Compute with some real numbers:\n",
    "\n",
    "$ C = \\pi \\cdot k_{\\nu}  ( \\frac{\\Delta \\rho \\cdot g \\cdot V^2}{\\nu_w^{1/2}})$\n"
   ]
  },
  {
   "cell_type": "code",
   "execution_count": 13,
   "metadata": {},
   "outputs": [
    {
     "name": "stdout",
     "output_type": "stream",
     "text": [
      "C =  4442.391161573673\n"
     ]
    }
   ],
   "source": [
    "# Some values to play with:\n",
    "# Alaska North Slope Crude: middle pipeline\n",
    "rho_oil = 876 # kg/m^3 density of oil\n",
    "visc_oil = 3.834e-05 # m^2/s kinematic viscosity\n",
    "vol = 795 # initial volume (m^3 -- 5000bbl)\n",
    "\n",
    "#NOTE: why is this K2**2 ?????\n",
    "C = np.pi * K2**2 * ( Delta(rho_oil) * g * vol**2 / np.sqrt(visc_w) )**(1.0/3)\n",
    "print(\"C = \", C)\n"
   ]
  },
  {
   "cell_type": "code",
   "execution_count": 14,
   "metadata": {},
   "outputs": [
    {
     "name": "stdout",
     "output_type": "stream",
     "text": [
      "timestep: 110.76923076923076 minutes\n"
     ]
    },
    {
     "data": {
      "text/plain": [
       "Text(0, 0.5, 'Area')"
      ]
     },
     "execution_count": 14,
     "metadata": {},
     "output_type": "execute_result"
    },
    {
     "data": {
      "image/png": "[encoded data removed]",
      "text/plain": [
       "<Figure size 432x288 with 1 Axes>"
      ]
     },
     "metadata": {
      "needs_background": "light"
     },
     "output_type": "display_data"
    }
   ],
   "source": [
    "# differential equation in terms of Area\n",
    "\n",
    "# Time zero to 72 hrs\n",
    "T = np.linspace(0, 72*3600, 40)\n",
    "\n",
    "print(\"timestep:\", (T[1] - T[0]) / 60, \"minutes\")\n",
    "\n",
    "#Fay_area = C * np.sqrt(T) # straight Fay Gravity-viscous\n",
    "Fay_area = Fay_gv(vol, rho_oil, T)\n",
    "\n",
    "\n",
    "A_0 = init_area(vol, rho_oil)\n",
    "\n",
    "A_max = max_area(vol, visc_oil)\n",
    "\n",
    "# initilize from Fay time dependent:\n",
    "start = 2\n",
    "\n",
    "def dadt(a):\n",
    "    return 0.5 * C**2  / a\n",
    "\n",
    "# simple Euler method:\n",
    "A = np.zeros_like(T)\n",
    "# small initial value to kick it off\n",
    "#A[:start] = Fay_area[:start]\n",
    "# start with initial-area\n",
    "start = 1\n",
    "A[0] = A_0\n",
    "dt = T[1] - T[0] # assume it's the same...\n",
    "for i, t in enumerate(T[start:]):\n",
    "    i += start\n",
    "    A[i] = A[i-1] + dadt(A[i-1])*dt\n",
    "\n",
    "Thr = T / 3600\n",
    "fig, ax = plt.subplots()\n",
    "ax.plot(Thr[:-1], Fay_area[1:], label=\"Fay\") # adjusted for initial area (approx)\n",
    "ax.plot(Thr, A, 'o',label=\"Numerical\")\n",
    "ax.legend(loc='upper left')\n",
    "\n",
    "ax.set_xlim(Thr[0], Thr[-1])\n",
    "\n",
    "ax.hlines(A_0, Thr[0], Thr[-1])\n",
    "ax.text(Thr[-1]+2, A_0, \"initial area\")\n",
    "\n",
    "#ax.hlines(A_max, Thr[0], Thr[-1])\n",
    "#ax.text(Thr[-1]+2, A_max, \"maximum area\")\n",
    "\n",
    "\n",
    "ax.set_xlabel(\"Time (hr)\")\n",
    "ax.set_ylabel(\"Area\")"
   ]
  },
  {
   "cell_type": "markdown",
   "metadata": {},
   "source": [
    "**NOTE:** The numerical solution closely matches the analytic solution with a time step of about 2 hours. Indicating that the Euler method is accurate enough for timesteps on order of an hour or less.\n",
    "\n",
    "The numerical solution starts with the initial area from Fay Gravity-inertial, and the analytical Fay gravity-viscous solution has been offset to approximate the same starting value."
   ]
  },
  {
   "cell_type": "code",
   "execution_count": 15,
   "metadata": {},
   "outputs": [
    {
     "name": "stdout",
     "output_type": "stream",
     "text": [
      "total volume: 795.0000000000001\n"
     ]
    }
   ],
   "source": [
    "print(\"total volume:\", A_max * min_thickness(visc_oil))"
   ]
  },
  {
   "cell_type": "markdown",
   "metadata": {},
   "source": [
    "## Add the diffusion\n",
    "\n",
    "Diffusion is a big player in spreading -- dominating after the first day or so.\n",
    "\n",
    "As the initial spread, and Fay gravity-viscous, and diffusion are all going on at once, the diffusive spread has been re-cast as a differential equaiton in area -- llke the Fay g-v solution:\n",
    "\n"
   ]
  },
  {
   "cell_type": "markdown",
   "metadata": {},
   "source": [
    "### Elliot Diffusion:\n",
    "\n",
    "$ D = 0.033 t^{0.16} $\n"
   ]
  },
  {
   "cell_type": "code",
   "execution_count": 16,
   "metadata": {},
   "outputs": [
    {
     "data": {
      "text/plain": [
       "[<matplotlib.lines.Line2D at 0x15d6e7520>]"
      ]
     },
     "execution_count": 16,
     "metadata": {},
     "output_type": "execute_result"
    },
    {
     "data": {
      "image/png": "[encoded data removed]",
      "text/plain": [
       "<Figure size 432x288 with 1 Axes>"
      ]
     },
     "metadata": {
      "needs_background": "light"
     },
     "output_type": "display_data"
    }
   ],
   "source": [
    "D = 0.033 * T**0.16\n",
    "\n",
    "fig, ax = plt.subplots()\n",
    "ax.plot(T, D)"
   ]
  },
  {
   "cell_type": "code",
   "execution_count": 17,
   "metadata": {},
   "outputs": [
    {
     "data": {
      "text/plain": [
       "<matplotlib.legend.Legend at 0x15d7301f0>"
      ]
     },
     "execution_count": 17,
     "metadata": {},
     "output_type": "execute_result"
    },
    {
     "data": {
      "image/png": "[encoded data removed]",
      "text/plain": [
       "<Figure size 432x288 with 1 Axes>"
      ]
     },
     "metadata": {
      "needs_background": "light"
     },
     "output_type": "display_data"
    }
   ],
   "source": [
    "# Area as a function of time\n",
    "A_elliot = np.pi * 4 *0.066 * T**(1.16)\n",
    "\n",
    "fig, ax = plt.subplots()\n",
    "ax.plot(Thr, A_elliot, label=\"Elliot Diffusion\")\n",
    "ax.plot(Thr, A, label=\"Fay\")\n",
    "ax.legend(loc=\"upper left\")\n"
   ]
  },
  {
   "cell_type": "markdown",
   "metadata": {
    "collapsed": true
   },
   "source": [
    "## Okubo: constant for Richardson spreading\n",
    "\n",
    "### (to be completed later -- maybe)\n",
    "\n",
    "Okubu (1971) is the key paper for asertign and getting constants for Richardson's 4/3 diffusion.\n",
    "\n",
    "However, while it has a line-fit, they don't seem to have published the constant. So this is a little code to try to match the figure."
   ]
  },
  {
   "cell_type": "markdown",
   "metadata": {
    "collapsed": true
   },
   "source": [
    "# Example release\n",
    "\n",
    "10 m^3 over 10 hrs\n",
    "\n",
    "100 LEs\n",
    "\n",
    "1 hr timestep\n",
    "\n"
   ]
  },
  {
   "cell_type": "code",
   "execution_count": 30,
   "metadata": {},
   "outputs": [
    {
     "name": "stdout",
     "output_type": "stream",
     "text": [
      "Blog volume: 0.25 m^3\n",
      "initial area: 96.12821578474393\n",
      "area per LE: 0.9612821578474393\n"
     ]
    }
   ],
   "source": [
    "# Some values to play with:\n",
    "# Alaska North Slope Crude: middle pipeline\n",
    "rho_oil = 876 # kg/m^3 density of oil\n",
    "visc_oil = 3.834e-05 # m^2/s kinematic viscosity\n",
    "\n",
    "total_vol = 10. # m^3\n",
    "release_time = 10 * 3600  # 10 hrs in sec.\n",
    "release_rate = total_vol / release_time\n",
    "\n",
    "num_LE = 100\n",
    "time_step = 3600. # 1 hr is seconds\n",
    "\n",
    "# \"blob\" is the amount released in 15 min, to scale the spreading\n",
    "V_blob = release_rate * 15 * 60  # 15 min in seconds\n",
    "\n",
    "print(f\"Blog volume: {V_blob} m^3\")\n",
    "\n",
    "A_0 = init_area2(V_blob, rho_oil)\n",
    "\n",
    "print(f\"initial area: {A_0}\")\n",
    "\n",
    "A0_i = A_0 / num_LE\n",
    "\n",
    "print(f\"area per LE: {A0_i}\")\n"
   ]
  },
  {
   "cell_type": "code",
   "execution_count": 44,
   "metadata": {},
   "outputs": [
    {
     "name": "stdout",
     "output_type": "stream",
     "text": [
      "C =  4442.391161573673\n"
     ]
    },
    {
     "data": {
      "text/plain": [
       "<matplotlib.legend.Legend at 0x15dbec8e0>"
      ]
     },
     "execution_count": 44,
     "metadata": {},
     "output_type": "execute_result"
    },
    {
     "data": {
      "image/png": "[encoded data removed]",
      "text/plain": [
       "<Figure size 432x288 with 1 Axes>"
      ]
     },
     "metadata": {
      "needs_background": "light"
     },
     "output_type": "display_data"
    }
   ],
   "source": [
    "# compute spread over time\n",
    "\n",
    "C = np.pi * K2**2 * ( Delta(rho_oil) * g * vol**2 / np.sqrt(visc_w) )**(1.0/3)\n",
    "print(\"C = \", C)\n",
    "\n",
    "def dadt(a):\n",
    "    return 0.5 * C**2  / a\n",
    "\n",
    "dt = time_step / 3600\n",
    "\n",
    "N = 100\n",
    "t = np.zeros(N)\n",
    "A_tot = np.zeros(N)\n",
    "A_tot[0] = A_0\n",
    "A_LE = np.zeros(N)\n",
    "A_LE[0] = A0_i\n",
    "\n",
    "for i in range(1, N):\n",
    "    t[i] = t[i-1] + dt\n",
    "    A_tot[i] = (A_tot[i-1] + dadt(A_tot[i-1]) * dt)\n",
    "    A_LE[i] = (A_LE[i-1] + dadt(A_LE[i-1]) * dt)\n",
    "\n",
    "    \n",
    "fig, ax = plt.subplots()\n",
    "ax.plot(t, A_tot, label=\"single LE\")\n",
    "ax.plot(t, A_LE * num_LE, label=\"100 LEs\")\n",
    "ax.legend(loc=\"upper left\")"
   ]
  },
  {
   "cell_type": "code",
   "execution_count": 45,
   "metadata": {},
   "outputs": [
    {
     "name": "stdout",
     "output_type": "stream",
     "text": [
      "[9.61282158e-01 1.02648535e+07 1.02648545e+07 1.02648554e+07\n",
      " 1.02648564e+07 1.02648574e+07 1.02648583e+07 1.02648593e+07\n",
      " 1.02648602e+07 1.02648612e+07 1.02648622e+07 1.02648631e+07\n",
      " 1.02648641e+07 1.02648651e+07 1.02648660e+07 1.02648670e+07\n",
      " 1.02648679e+07 1.02648689e+07 1.02648699e+07 1.02648708e+07\n",
      " 1.02648718e+07 1.02648727e+07 1.02648737e+07 1.02648747e+07\n",
      " 1.02648756e+07 1.02648766e+07 1.02648776e+07 1.02648785e+07\n",
      " 1.02648795e+07 1.02648804e+07 1.02648814e+07 1.02648824e+07\n",
      " 1.02648833e+07 1.02648843e+07 1.02648852e+07 1.02648862e+07\n",
      " 1.02648872e+07 1.02648881e+07 1.02648891e+07 1.02648900e+07\n",
      " 1.02648910e+07 1.02648920e+07 1.02648929e+07 1.02648939e+07\n",
      " 1.02648949e+07 1.02648958e+07 1.02648968e+07 1.02648977e+07\n",
      " 1.02648987e+07 1.02648997e+07 1.02649006e+07 1.02649016e+07\n",
      " 1.02649025e+07 1.02649035e+07 1.02649045e+07 1.02649054e+07\n",
      " 1.02649064e+07 1.02649074e+07 1.02649083e+07 1.02649093e+07\n",
      " 1.02649102e+07 1.02649112e+07 1.02649122e+07 1.02649131e+07\n",
      " 1.02649141e+07 1.02649150e+07 1.02649160e+07 1.02649170e+07\n",
      " 1.02649179e+07 1.02649189e+07 1.02649198e+07 1.02649208e+07\n",
      " 1.02649218e+07 1.02649227e+07 1.02649237e+07 1.02649247e+07\n",
      " 1.02649256e+07 1.02649266e+07 1.02649275e+07 1.02649285e+07\n",
      " 1.02649295e+07 1.02649304e+07 1.02649314e+07 1.02649323e+07\n",
      " 1.02649333e+07 1.02649343e+07 1.02649352e+07 1.02649362e+07\n",
      " 1.02649371e+07 1.02649381e+07 1.02649391e+07 1.02649400e+07\n",
      " 1.02649410e+07 1.02649420e+07 1.02649429e+07 1.02649439e+07\n",
      " 1.02649448e+07 1.02649458e+07 1.02649468e+07 1.02649477e+07]\n",
      "[9.61282158e+01 1.02744654e+05 1.02840692e+05 1.02936641e+05\n",
      " 1.03032500e+05 1.03128270e+05 1.03223951e+05 1.03319543e+05\n",
      " 1.03415047e+05 1.03510463e+05 1.03605791e+05 1.03701031e+05\n",
      " 1.03796183e+05 1.03891248e+05 1.03986227e+05 1.04081118e+05\n",
      " 1.04175924e+05 1.04270642e+05 1.04365275e+05 1.04459822e+05\n",
      " 1.04554283e+05 1.04648659e+05 1.04742950e+05 1.04837156e+05\n",
      " 1.04931278e+05 1.05025315e+05 1.05119268e+05 1.05213136e+05\n",
      " 1.05306921e+05 1.05400623e+05 1.05494241e+05 1.05587776e+05\n",
      " 1.05681229e+05 1.05774598e+05 1.05867886e+05 1.05961091e+05\n",
      " 1.06054214e+05 1.06147255e+05 1.06240215e+05 1.06333093e+05\n",
      " 1.06425890e+05 1.06518607e+05 1.06611242e+05 1.06703797e+05\n",
      " 1.06796272e+05 1.06888667e+05 1.06980982e+05 1.07073217e+05\n",
      " 1.07165373e+05 1.07257450e+05 1.07349447e+05 1.07441366e+05\n",
      " 1.07533206e+05 1.07624968e+05 1.07716651e+05 1.07808256e+05\n",
      " 1.07899784e+05 1.07991234e+05 1.08082606e+05 1.08173901e+05\n",
      " 1.08265119e+05 1.08356261e+05 1.08447325e+05 1.08538313e+05\n",
      " 1.08629225e+05 1.08720061e+05 1.08810821e+05 1.08901505e+05\n",
      " 1.08992114e+05 1.09082647e+05 1.09173105e+05 1.09263488e+05\n",
      " 1.09353797e+05 1.09444031e+05 1.09534190e+05 1.09624276e+05\n",
      " 1.09714287e+05 1.09804224e+05 1.09894088e+05 1.09983878e+05\n",
      " 1.10073595e+05 1.10163239e+05 1.10252810e+05 1.10342308e+05\n",
      " 1.10431734e+05 1.10521087e+05 1.10610368e+05 1.10699576e+05\n",
      " 1.10788713e+05 1.10877779e+05 1.10966772e+05 1.11055695e+05\n",
      " 1.11144546e+05 1.11233326e+05 1.11322035e+05 1.11410673e+05\n",
      " 1.11499241e+05 1.11587739e+05 1.11676166e+05 1.11764524e+05]\n"
     ]
    }
   ],
   "source": [
    "print(A_LE)\n",
    "print(A_tot)\n"
   ]
  },
  {
   "cell_type": "code",
   "execution_count": 46,
   "metadata": {},
   "outputs": [
    {
     "data": {
      "text/plain": [
       "1.0"
      ]
     },
     "execution_count": 46,
     "metadata": {},
     "output_type": "execute_result"
    }
   ],
   "source": [
    "dt\n"
   ]
  },
  {
   "cell_type": "code",
   "execution_count": null,
   "metadata": {},
   "outputs": [],
   "source": []
  }
 ],
 "metadata": {
  "kernelspec": {
   "display_name": "Python 3 (ipykernel)",
   "language": "python",
   "name": "python3"
  },
  "language_info": {
   "codemirror_mode": {
    "name": "ipython",
    "version": 3
   },
   "file_extension": ".py",
   "mimetype": "text/x-python",
   "name": "python",
   "nbconvert_exporter": "python",
   "pygments_lexer": "ipython3",
   "version": "3.9.7"
  }
 },
 "nbformat": 4,
 "nbformat_minor": 1
}
